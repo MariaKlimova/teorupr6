{
 "cells": [
  {
   "cell_type": "markdown",
   "id": "decent-consolidation",
   "metadata": {},
   "source": [
    "# Преобразование Лапласа \n",
    "$$ \\mathcal{L}\\{x(t)\\}= \\int_0^\\inf {x(t) e^{-st}}dt$$"
   ]
  },
  {
   "cell_type": "code",
   "execution_count": 5,
   "id": "prescription-examination",
   "metadata": {},
   "outputs": [],
   "source": [
    "import sympy\n",
    "import matplotlib.pyplot as plt"
   ]
  },
  {
   "cell_type": "code",
   "execution_count": 6,
   "id": "second-boards",
   "metadata": {},
   "outputs": [],
   "source": [
    "t, s = sympy.symbols('t, s')\n",
    "a = sympy.symbols('a', real=True, positive =True)"
   ]
  },
  {
   "cell_type": "code",
   "execution_count": 7,
   "id": "sharing-bandwidth",
   "metadata": {},
   "outputs": [
    {
     "data": {
      "text/latex": [
       "$\\displaystyle e^{- a t}$"
      ],
      "text/plain": [
       "exp(-a*t)"
      ]
     },
     "execution_count": 7,
     "metadata": {},
     "output_type": "execute_result"
    }
   ],
   "source": [
    "f = sympy.exp(-a*t)\n",
    "f"
   ]
  },
  {
   "cell_type": "code",
   "execution_count": 8,
   "id": "stainless-mason",
   "metadata": {},
   "outputs": [
    {
     "data": {
      "text/latex": [
       "$\\displaystyle \\begin{cases} \\frac{1}{s \\left(\\frac{a}{s} + 1\\right)} & \\text{for}\\: \\left|{\\arg{\\left(s \\right)}}\\right| \\leq \\frac{\\pi}{2} \\\\\\int\\limits_{0}^{\\infty} e^{- a t} e^{- s t}\\, dt & \\text{otherwise} \\end{cases}$"
      ],
      "text/plain": [
       "Piecewise((1/(s*(a/s + 1)), Abs(arg(s)) <= pi/2), (Integral(exp(-a*t)*exp(-s*t), (t, 0, oo)), True))"
      ]
     },
     "execution_count": 8,
     "metadata": {},
     "output_type": "execute_result"
    }
   ],
   "source": [
    "sympy.integrate(f*sympy.exp(-s*t), (t, 0, sympy.oo))"
   ]
  },
  {
   "cell_type": "code",
   "execution_count": 10,
   "id": "systematic-million",
   "metadata": {},
   "outputs": [
    {
     "data": {
      "text/latex": [
       "$\\displaystyle \\frac{1}{a + s}$"
      ],
      "text/plain": [
       "1/(a + s)"
      ]
     },
     "execution_count": 10,
     "metadata": {},
     "output_type": "execute_result"
    }
   ],
   "source": [
    "sympy.laplace_transform(f, t, s, noconds=True)"
   ]
  },
  {
   "cell_type": "code",
   "execution_count": 16,
   "id": "crazy-penetration",
   "metadata": {},
   "outputs": [],
   "source": [
    "def L(f):\n",
    "    return sympy.laplace_transform(f, t, s, noconds=True)\n",
    "def invL(f):\n",
    "    return sympy.inverse_laplace_transform(F, s, t)"
   ]
  },
  {
   "cell_type": "code",
   "execution_count": 17,
   "id": "sharing-flexibility",
   "metadata": {},
   "outputs": [
    {
     "data": {
      "text/latex": [
       "$\\displaystyle \\frac{1}{a + s}$"
      ],
      "text/plain": [
       "1/(a + s)"
      ]
     },
     "execution_count": 17,
     "metadata": {},
     "output_type": "execute_result"
    }
   ],
   "source": [
    "F = L(f)\n",
    "F"
   ]
  },
  {
   "cell_type": "code",
   "execution_count": 18,
   "id": "downtown-atlas",
   "metadata": {},
   "outputs": [
    {
     "data": {
      "text/latex": [
       "$\\displaystyle e^{- a t} \\theta\\left(t\\right)$"
      ],
      "text/plain": [
       "exp(-a*t)*Heaviside(t)"
      ]
     },
     "execution_count": 18,
     "metadata": {},
     "output_type": "execute_result"
    }
   ],
   "source": [
    "invL(F)"
   ]
  },
  {
   "cell_type": "code",
   "execution_count": 23,
   "id": "noble-switzerland",
   "metadata": {},
   "outputs": [],
   "source": [
    "omega, tau = sympy.symbols('omega, tau', real = True)\n",
    "exp = sympy.exp\n",
    "sin = sympy.sin\n",
    "cos = sympy.cos\n",
    "n = sympy.symbols('n', int=True, positive=True)\n",
    "\n",
    "delta = sympy.DiracDelta\n",
    "hv = sympy.Heaviside\n",
    "\n",
    "functions = [1, delta(t), hv(t), exp(-a*t), t*exp(-a*t), t**n*exp(-a*t), sin(omega*t), cos(omega*t)]"
   ]
  },
  {
   "cell_type": "code",
   "execution_count": 26,
   "id": "civilian-bonus",
   "metadata": {},
   "outputs": [
    {
     "data": {
      "text/plain": [
       "[1/s,\n",
       " 1 - Heaviside(0),\n",
       " 1/s,\n",
       " 1/(a + s),\n",
       " (a + s)**(-2),\n",
       " (a + s)**(-n - 1)*gamma(n + 1),\n",
       " omega/(omega**2 + s**2),\n",
       " s/(omega**2 + s**2)]"
      ]
     },
     "execution_count": 26,
     "metadata": {},
     "output_type": "execute_result"
    }
   ],
   "source": [
    "Fs = [L(f) for f in functions]\n",
    "Fs"
   ]
  },
  {
   "cell_type": "code",
   "execution_count": 27,
   "id": "stable-selection",
   "metadata": {},
   "outputs": [],
   "source": [
    "from pandas import DataFrame"
   ]
  },
  {
   "cell_type": "code",
   "execution_count": 30,
   "id": "looking-listing",
   "metadata": {},
   "outputs": [],
   "source": [
    "def makelatex(args):\n",
    "    return('$${}$$'.format(sympy.latex(a)) for a in args)"
   ]
  },
  {
   "cell_type": "code",
   "execution_count": 31,
   "id": "turned-portugal",
   "metadata": {},
   "outputs": [
    {
     "data": {
      "text/html": [
       "<div>\n",
       "<style scoped>\n",
       "    .dataframe tbody tr th:only-of-type {\n",
       "        vertical-align: middle;\n",
       "    }\n",
       "\n",
       "    .dataframe tbody tr th {\n",
       "        vertical-align: top;\n",
       "    }\n",
       "\n",
       "    .dataframe thead th {\n",
       "        text-align: right;\n",
       "    }\n",
       "</style>\n",
       "<table border=\"1\" class=\"dataframe\">\n",
       "  <thead>\n",
       "    <tr style=\"text-align: right;\">\n",
       "      <th></th>\n",
       "      <th>0</th>\n",
       "      <th>1</th>\n",
       "    </tr>\n",
       "  </thead>\n",
       "  <tbody>\n",
       "    <tr>\n",
       "      <th>0</th>\n",
       "      <td>$$1$$</td>\n",
       "      <td>$$\\frac{1}{s}$$</td>\n",
       "    </tr>\n",
       "    <tr>\n",
       "      <th>1</th>\n",
       "      <td>$$\\delta\\left(t\\right)$$</td>\n",
       "      <td>$$1 - \\theta\\left(0\\right)$$</td>\n",
       "    </tr>\n",
       "    <tr>\n",
       "      <th>2</th>\n",
       "      <td>$$\\theta\\left(t\\right)$$</td>\n",
       "      <td>$$\\frac{1}{s}$$</td>\n",
       "    </tr>\n",
       "    <tr>\n",
       "      <th>3</th>\n",
       "      <td>$$e^{- a t}$$</td>\n",
       "      <td>$$\\frac{1}{a + s}$$</td>\n",
       "    </tr>\n",
       "    <tr>\n",
       "      <th>4</th>\n",
       "      <td>$$t e^{- a t}$$</td>\n",
       "      <td>$$\\frac{1}{\\left(a + s\\right)^{2}}$$</td>\n",
       "    </tr>\n",
       "    <tr>\n",
       "      <th>5</th>\n",
       "      <td>$$t^{n} e^{- a t}$$</td>\n",
       "      <td>$$\\left(a + s\\right)^{- n - 1} \\Gamma\\left(n +...</td>\n",
       "    </tr>\n",
       "    <tr>\n",
       "      <th>6</th>\n",
       "      <td>$$\\sin{\\left(\\omega t \\right)}$$</td>\n",
       "      <td>$$\\frac{\\omega}{\\omega^{2} + s^{2}}$$</td>\n",
       "    </tr>\n",
       "    <tr>\n",
       "      <th>7</th>\n",
       "      <td>$$\\cos{\\left(\\omega t \\right)}$$</td>\n",
       "      <td>$$\\frac{s}{\\omega^{2} + s^{2}}$$</td>\n",
       "    </tr>\n",
       "  </tbody>\n",
       "</table>\n",
       "</div>"
      ],
      "text/plain": [
       "                                  0  \\\n",
       "0                             $$1$$   \n",
       "1          $$\\delta\\left(t\\right)$$   \n",
       "2          $$\\theta\\left(t\\right)$$   \n",
       "3                     $$e^{- a t}$$   \n",
       "4                   $$t e^{- a t}$$   \n",
       "5               $$t^{n} e^{- a t}$$   \n",
       "6  $$\\sin{\\left(\\omega t \\right)}$$   \n",
       "7  $$\\cos{\\left(\\omega t \\right)}$$   \n",
       "\n",
       "                                                   1  \n",
       "0                                    $$\\frac{1}{s}$$  \n",
       "1                       $$1 - \\theta\\left(0\\right)$$  \n",
       "2                                    $$\\frac{1}{s}$$  \n",
       "3                                $$\\frac{1}{a + s}$$  \n",
       "4               $$\\frac{1}{\\left(a + s\\right)^{2}}$$  \n",
       "5  $$\\left(a + s\\right)^{- n - 1} \\Gamma\\left(n +...  \n",
       "6              $$\\frac{\\omega}{\\omega^{2} + s^{2}}$$  \n",
       "7                   $$\\frac{s}{\\omega^{2} + s^{2}}$$  "
      ]
     },
     "execution_count": 31,
     "metadata": {},
     "output_type": "execute_result"
    }
   ],
   "source": [
    "DataFrame(list(zip(makelatex(functions), makelatex(Fs))))"
   ]
  },
  {
   "cell_type": "code",
   "execution_count": null,
   "id": "fatty-calendar",
   "metadata": {},
   "outputs": [],
   "source": []
  }
 ],
 "metadata": {
  "kernelspec": {
   "display_name": "Python 3",
   "language": "python",
   "name": "python3"
  },
  "language_info": {
   "codemirror_mode": {
    "name": "ipython",
    "version": 3
   },
   "file_extension": ".py",
   "mimetype": "text/x-python",
   "name": "python",
   "nbconvert_exporter": "python",
   "pygments_lexer": "ipython3",
   "version": "3.9.1"
  }
 },
 "nbformat": 4,
 "nbformat_minor": 5
}
