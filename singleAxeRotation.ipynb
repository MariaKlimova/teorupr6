{
 "cells": [
  {
   "cell_type": "code",
   "execution_count": 2,
   "metadata": {},
   "outputs": [],
   "source": [
    "import numpy as np\n",
    "import scipy.integrate as sci\n",
    "import matplotlib.pyplot as plt\n",
    "import matplotlib.animation as animation"
   ]
  },
  {
   "cell_type": "markdown",
   "metadata": {},
   "source": [
    "# ЗАДАЧА\n",
    "## Имеется тело, вращающееся вокруг некоторой постоянной в пространстве оси.\n",
    "## Известны его угол поворота и угловая скорость в некоторый начальный момент\n",
    "## Требуется найти оптимальный по времени способ приведения тела в положение с нулевым углом поворота и нулевой скоростью вращения\n"
   ]
  },
  {
   "cell_type": "markdown",
   "metadata": {},
   "source": [
    " $$ I \\dot{\\mathbf{\\omega}} = M, u = \\frac{M}{I} $$"
   ]
  },
  {
   "cell_type": "markdown",
   "metadata": {},
   "source": [
    "$$ \\omega = \\omega_0 + ut$$\n"
   ]
  },
  {
   "cell_type": "markdown",
   "metadata": {},
   "source": [
    "$$ t = \\frac{\\omega - \\omega_0}{u}$$"
   ]
  },
  {
   "cell_type": "markdown",
   "metadata": {},
   "source": [
    "$$\\phi = \\phi_0 + \\omega_0 \\frac{\\omega - \\omega_0}{u} + \\frac{u}{2}\\cdot (\\frac{\\omega - \\omega_0}{u})^2$$"
   ]
  },
  {
   "cell_type": "markdown",
   "metadata": {},
   "source": [
    "$$\\phi = \\phi_{01} + \\frac{\\omega^2}{2u},\n",
    "\\phi_{01} = \\phi_0 - \\frac{\\omega_0^2}{2u} $$"
   ]
  },
  {
   "cell_type": "code",
   "execution_count": 25,
   "metadata": {},
   "outputs": [],
   "source": [
    "class trajectory:\n",
    "    def __init__(self, angle, speed, u):\n",
    "        self.angle0 = angle\n",
    "        self.speed0 = speed\n",
    "        self.u = u\n",
    "        self.extr = 0\n",
    "        \n",
    "    def calculate_initial(self):\n",
    "        if (self.speed0 >= 0):\n",
    "            return self.angle0 + self.speed0**2/(2*self.u)\n",
    "        else:\n",
    "            return self.angle0 - self.speed0**2/(2*self.u)\n",
    "    def calculate_first_part(self):\n",
    "        phi01 = self.calculate_initial()\n",
    "        if (self.speed0 >= 0):\n",
    "            return lambda w: phi01 - w**2/(2*self.u)\n",
    "        else:\n",
    "            return lambda w: phi01 + w**2/(2*self.u)\n",
    "    def calculate_second_part(self):\n",
    "        if (self.speed0 >= 0):\n",
    "            return lambda w: w**2/(2*self.u)\n",
    "        else:\n",
    "            return lambda w: - w**2/(2*self.u)\n",
    "    def define_first_range(self):\n",
    "        w_extr = (self.extr*self.u)**(0.5)\n",
    "        return np.linspace(self.speed0, w_extr, 1000)\n",
    "    def define_second_range(self):\n",
    "        w_extr = (self.extr*self.u)**(0.5)\n",
    "        return np.linspace(0, w_extr, 1000)\n",
    "    def calculate_trajectory(self):\n",
    "        self.extr = np.abs(self.calculate_initial())\n",
    "        y1 = self.calculate_first_part()\n",
    "        y2 = self.calculate_second_part()\n",
    "        x1 = self.define_first_range()\n",
    "        x2 = self.define_second_range()\n",
    "        return (x1, y1, x2, y2)\n",
    "    def visualize(self):\n",
    "        fig1, ax1 = plt.subplots(1)\n",
    "        (x1, y1, x2, y2) = self.calculate_trajectory()\n",
    "        ax1.plot(y1(x1), x1, color='r') \n",
    "        ax1.plot(y2(x2), x2, color='g')\n",
    "        ax1.grid(True)\n",
    "        plt.show()\n",
    "\n",
    "    def create_animation(self, xlim, ylim, filename):\n",
    "        plt.style.use('dark_background')\n",
    "        (x1, y1, x2, y2) = self.calculate_trajectory()\n",
    "\n",
    "        fig = plt.figure()\n",
    "        ax = plt.axes(xlim=xlim, ylim = ylim)\n",
    "        line, = ax.plot([], [], lw=2)\n",
    "\n",
    "        \n",
    "        \n",
    "        \n",
    "        # Функция инициализации.\n",
    "        def init():\n",
    "            # создение пустого графа.\n",
    "            line.set_data([], [])\n",
    "            return line,\n",
    "        \n",
    "        \n",
    "        xdata, ydata = [], []\n",
    "        \n",
    "        \n",
    "        # функция анимации\n",
    "        def animate(i):\n",
    "            #t = 0.1 * i\n",
    "        \n",
    "            # x, y данные на графике\n",
    "            \n",
    "            if (i < 1000):\n",
    "                x = x1[i]\n",
    "                y = y1(x1[i])\n",
    "            elif (1000 < i <2000):\n",
    "                x = x2[1000 - i ]\n",
    "                y = y2(x2[1000 -i])\n",
    "\n",
    "            # print(x, y)\n",
    "            # добавление новых точек в список точек осей x, y\n",
    "            if (i!= 1000):\n",
    "                xdata.append(x)\n",
    "                ydata.append(y)\n",
    "            line.set_data(ydata, xdata)\n",
    "            return line,\n",
    "        \n",
    "        \n",
    "        # Заголовок анимации\n",
    "        plt.title('Trajectory')\n",
    "        # Скрываем лишние данные\n",
    "        plt.axis('on')\n",
    "        \n",
    "        # Вызов анимации.\n",
    "        anim = animation.FuncAnimation(fig, animate, init_func=init,\n",
    "                                    frames=2000, interval=20, blit=True)\n",
    "        \n",
    "        # Сохраняем анимацию как gif файл\n",
    "        anim.save(filename, writer='pillow')\n",
    "        \n",
    " \n",
    "    "
   ]
  },
  {
   "cell_type": "code",
   "execution_count": 17,
   "metadata": {},
   "outputs": [
    {
     "data": {
      "image/png": "[encoded data removed]",
      "text/plain": [
       "<Figure size 432x288 with 1 Axes>"
      ]
     },
     "metadata": {},
     "output_type": "display_data"
    }
   ],
   "source": [
    "trajectory(-5, -20, 20).visualize()"
   ]
  },
  {
   "cell_type": "code",
   "execution_count": 26,
   "metadata": {},
   "outputs": [
    {
     "data": {
      "image/png": "[encoded data removed]",
      "text/plain": [
       "<Figure size 432x288 with 1 Axes>"
      ]
     },
     "metadata": {},
     "output_type": "display_data"
    }
   ],
   "source": [
    "trajectory(-5, -20, 20).create_animation([-15, 0], [-20, 20], 'tr4.gif')"
   ]
  },
  {
   "cell_type": "code",
   "execution_count": null,
   "metadata": {},
   "outputs": [],
   "source": []
  }
 ],
 "metadata": {
  "kernelspec": {
   "display_name": "Python 3",
   "language": "python",
   "name": "python3"
  },
  "language_info": {
   "codemirror_mode": {
    "name": "ipython",
    "version": 3
   },
   "file_extension": ".py",
   "mimetype": "text/x-python",
   "name": "python",
   "nbconvert_exporter": "python",
   "pygments_lexer": "ipython3",
   "version": "3.9.1"
  }
 },
 "nbformat": 4,
 "nbformat_minor": 2
}
