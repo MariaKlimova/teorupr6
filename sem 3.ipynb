{
 "cells": [
  {
   "cell_type": "markdown",
   "id": "animal-concord",
   "metadata": {},
   "source": [
    "# СЕМИНАР 3\n"
   ]
  },
  {
   "cell_type": "code",
   "execution_count": 1,
   "id": "industrial-internship",
   "metadata": {},
   "outputs": [],
   "source": [
    "import sympy\n",
    "import matplotlib.pyplot as plt"
   ]
  },
  {
   "cell_type": "code",
   "execution_count": 5,
   "id": "fluid-monday",
   "metadata": {},
   "outputs": [],
   "source": [
    "s = sympy.symbols('s')"
   ]
  },
  {
   "cell_type": "code",
   "execution_count": 23,
   "id": "detected-secret",
   "metadata": {},
   "outputs": [],
   "source": [
    "class DU:\n",
    "    def __init__(self, a_array, b_array):\n",
    "        self.a = a_array\n",
    "        self.b = b_array\n",
    "        self.left_polynom = 0\n",
    "        self.right_polynom = 0\n",
    "        self.transfer = 0\n",
    "        self.create_polynoms()\n",
    "        self.create_transfer_function()\n",
    "        \n",
    "        \n",
    "    def create_polynoms(self):\n",
    "        for i in range(len(self.a)):\n",
    "            self.left_polynom += self.a[i]*s**i\n",
    "        for i in range(len(self.b)):\n",
    "            self.right_polynom += self.b[i]*s**i\n",
    "    def create_transfer_function(self):\n",
    "        self.transfer = self.right_polynom / self.left_polynom\n",
    "\n",
    "            "
   ]
  },
  {
   "cell_type": "code",
   "execution_count": 26,
   "id": "universal-wellington",
   "metadata": {},
   "outputs": [
    {
     "data": {
      "text/latex": [
       "$\\displaystyle \\frac{5 s^{2} + 3 s + 2}{3 s + 2}$"
      ],
      "text/plain": [
       "(5*s**2 + 3*s + 2)/(3*s + 2)"
      ]
     },
     "execution_count": 26,
     "metadata": {},
     "output_type": "execute_result"
    }
   ],
   "source": [
    "a1  = [2, 3]\n",
    "b1 = [2, 3, 5]\n",
    "a = DU(a1, b1)\n",
    "a.transfer"
   ]
  },
  {
   "cell_type": "code",
   "execution_count": null,
   "id": "australian-developer",
   "metadata": {},
   "outputs": [],
   "source": []
  }
 ],
 "metadata": {
  "kernelspec": {
   "display_name": "Python 3",
   "language": "python",
   "name": "python3"
  },
  "language_info": {
   "codemirror_mode": {
    "name": "ipython",
    "version": 3
   },
   "file_extension": ".py",
   "mimetype": "text/x-python",
   "name": "python",
   "nbconvert_exporter": "python",
   "pygments_lexer": "ipython3",
   "version": "3.9.1"
  }
 },
 "nbformat": 4,
 "nbformat_minor": 5
}
